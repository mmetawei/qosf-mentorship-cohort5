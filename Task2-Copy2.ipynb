{
 "cells": [
  {
   "cell_type": "markdown",
   "id": "d4620722",
   "metadata": {},
   "source": [
    "# Task 2 Solution"
   ]
  },
  {
   "attachments": {
    "cohort5_diagram.drawio.png": {
     "image/png": "[encoded data removed]"
    }
   },
   "cell_type": "markdown",
   "id": "60f68e5c",
   "metadata": {},
   "source": [
    "The problem we're tryong to solve can be broke down into the following steps:<br>\n",
    "1- Make pre-processing on the input classical dataset to preparing it for the encoding process. <br>\n",
    "2- Perform the encoding step, as a first thought, I am going to use an angle encoding technique. <br>\n",
    "3- Design the QNN training circuit. <br>\n",
    "4- Run the training and testing and deduce the classifiction accuracy.<br>\n",
    "5- Revisit the model to fine tune the accuracy value.<br>\n",
    "![cohort5_diagram.drawio.png](attachment:cohort5_diagram.drawio.png)\n",
    "<br>\n",
    "First the classical dataset shall be loaded <br>"
   ]
  },
  {
   "cell_type": "code",
   "execution_count": 51,
   "id": "12014064",
   "metadata": {},
   "outputs": [
    {
     "data": {
      "text/html": [
       "<div>\n",
       "<style scoped>\n",
       "    .dataframe tbody tr th:only-of-type {\n",
       "        vertical-align: middle;\n",
       "    }\n",
       "\n",
       "    .dataframe tbody tr th {\n",
       "        vertical-align: top;\n",
       "    }\n",
       "\n",
       "    .dataframe thead th {\n",
       "        text-align: right;\n",
       "    }\n",
       "</style>\n",
       "<table border=\"1\" class=\"dataframe\">\n",
       "  <thead>\n",
       "    <tr style=\"text-align: right;\">\n",
       "      <th></th>\n",
       "      <th>0</th>\n",
       "      <th>1</th>\n",
       "      <th>2</th>\n",
       "      <th>3</th>\n",
       "      <th>4</th>\n",
       "    </tr>\n",
       "  </thead>\n",
       "  <tbody>\n",
       "    <tr>\n",
       "      <th>0</th>\n",
       "      <td>2789.26</td>\n",
       "      <td>1000.0</td>\n",
       "      <td>10.0</td>\n",
       "      <td>20.0</td>\n",
       "      <td>0.0</td>\n",
       "    </tr>\n",
       "    <tr>\n",
       "      <th>1</th>\n",
       "      <td>4040.01</td>\n",
       "      <td>1000000.0</td>\n",
       "      <td>1.0</td>\n",
       "      <td>1.0</td>\n",
       "      <td>1.0</td>\n",
       "    </tr>\n",
       "    <tr>\n",
       "      <th>2</th>\n",
       "      <td>2931.20</td>\n",
       "      <td>10000.0</td>\n",
       "      <td>10000.0</td>\n",
       "      <td>40.0</td>\n",
       "      <td>1.0</td>\n",
       "    </tr>\n",
       "    <tr>\n",
       "      <th>3</th>\n",
       "      <td>3896.54</td>\n",
       "      <td>10000.0</td>\n",
       "      <td>100000.0</td>\n",
       "      <td>30.0</td>\n",
       "      <td>1.0</td>\n",
       "    </tr>\n",
       "    <tr>\n",
       "      <th>4</th>\n",
       "      <td>982.06</td>\n",
       "      <td>100.0</td>\n",
       "      <td>1000.0</td>\n",
       "      <td>75.0</td>\n",
       "      <td>0.0</td>\n",
       "    </tr>\n",
       "    <tr>\n",
       "      <th>...</th>\n",
       "      <td>...</td>\n",
       "      <td>...</td>\n",
       "      <td>...</td>\n",
       "      <td>...</td>\n",
       "      <td>...</td>\n",
       "    </tr>\n",
       "    <tr>\n",
       "      <th>295</th>\n",
       "      <td>1464.52</td>\n",
       "      <td>1000000.0</td>\n",
       "      <td>10000.0</td>\n",
       "      <td>45.0</td>\n",
       "      <td>1.0</td>\n",
       "    </tr>\n",
       "    <tr>\n",
       "      <th>296</th>\n",
       "      <td>3493.66</td>\n",
       "      <td>1000000.0</td>\n",
       "      <td>100000.0</td>\n",
       "      <td>85.0</td>\n",
       "      <td>1.0</td>\n",
       "    </tr>\n",
       "    <tr>\n",
       "      <th>297</th>\n",
       "      <td>4182.81</td>\n",
       "      <td>1.0</td>\n",
       "      <td>1.0</td>\n",
       "      <td>65.0</td>\n",
       "      <td>0.0</td>\n",
       "    </tr>\n",
       "    <tr>\n",
       "      <th>298</th>\n",
       "      <td>3113.75</td>\n",
       "      <td>10000.0</td>\n",
       "      <td>100.0</td>\n",
       "      <td>1.0</td>\n",
       "      <td>1.0</td>\n",
       "    </tr>\n",
       "    <tr>\n",
       "      <th>299</th>\n",
       "      <td>4567.57</td>\n",
       "      <td>10000.0</td>\n",
       "      <td>100000.0</td>\n",
       "      <td>90.0</td>\n",
       "      <td>1.0</td>\n",
       "    </tr>\n",
       "  </tbody>\n",
       "</table>\n",
       "<p>300 rows × 5 columns</p>\n",
       "</div>"
      ],
      "text/plain": [
       "           0          1         2     3    4\n",
       "0    2789.26     1000.0      10.0  20.0  0.0\n",
       "1    4040.01  1000000.0       1.0   1.0  1.0\n",
       "2    2931.20    10000.0   10000.0  40.0  1.0\n",
       "3    3896.54    10000.0  100000.0  30.0  1.0\n",
       "4     982.06      100.0    1000.0  75.0  0.0\n",
       "..       ...        ...       ...   ...  ...\n",
       "295  1464.52  1000000.0   10000.0  45.0  1.0\n",
       "296  3493.66  1000000.0  100000.0  85.0  1.0\n",
       "297  4182.81        1.0       1.0  65.0  0.0\n",
       "298  3113.75    10000.0     100.0   1.0  1.0\n",
       "299  4567.57    10000.0  100000.0  90.0  1.0\n",
       "\n",
       "[300 rows x 5 columns]"
      ]
     },
     "execution_count": 51,
     "metadata": {},
     "output_type": "execute_result"
    }
   ],
   "source": [
    "import pandas as pd\n",
    "train_data= pd.read_csv(\"mock_train_set.csv\", delimiter=',')\n",
    "train_data"
   ]
  },
  {
   "cell_type": "code",
   "execution_count": 52,
   "id": "343caabc",
   "metadata": {},
   "outputs": [
    {
     "data": {
      "text/html": [
       "<div>\n",
       "<style scoped>\n",
       "    .dataframe tbody tr th:only-of-type {\n",
       "        vertical-align: middle;\n",
       "    }\n",
       "\n",
       "    .dataframe tbody tr th {\n",
       "        vertical-align: top;\n",
       "    }\n",
       "\n",
       "    .dataframe thead th {\n",
       "        text-align: right;\n",
       "    }\n",
       "</style>\n",
       "<table border=\"1\" class=\"dataframe\">\n",
       "  <thead>\n",
       "    <tr style=\"text-align: right;\">\n",
       "      <th></th>\n",
       "      <th>0</th>\n",
       "      <th>1</th>\n",
       "      <th>2</th>\n",
       "      <th>3</th>\n",
       "      <th>4</th>\n",
       "    </tr>\n",
       "  </thead>\n",
       "  <tbody>\n",
       "    <tr>\n",
       "      <th>0</th>\n",
       "      <td>2988.55</td>\n",
       "      <td>10000.0</td>\n",
       "      <td>10000.0</td>\n",
       "      <td>75.0</td>\n",
       "      <td>1.0</td>\n",
       "    </tr>\n",
       "    <tr>\n",
       "      <th>1</th>\n",
       "      <td>3413.80</td>\n",
       "      <td>1.0</td>\n",
       "      <td>100.0</td>\n",
       "      <td>90.0</td>\n",
       "      <td>0.0</td>\n",
       "    </tr>\n",
       "    <tr>\n",
       "      <th>2</th>\n",
       "      <td>3891.52</td>\n",
       "      <td>1.0</td>\n",
       "      <td>1.0</td>\n",
       "      <td>5.0</td>\n",
       "      <td>0.0</td>\n",
       "    </tr>\n",
       "    <tr>\n",
       "      <th>3</th>\n",
       "      <td>4514.99</td>\n",
       "      <td>10000.0</td>\n",
       "      <td>1000000.0</td>\n",
       "      <td>25.0</td>\n",
       "      <td>1.0</td>\n",
       "    </tr>\n",
       "    <tr>\n",
       "      <th>4</th>\n",
       "      <td>752.29</td>\n",
       "      <td>10.0</td>\n",
       "      <td>10.0</td>\n",
       "      <td>90.0</td>\n",
       "      <td>0.0</td>\n",
       "    </tr>\n",
       "    <tr>\n",
       "      <th>...</th>\n",
       "      <td>...</td>\n",
       "      <td>...</td>\n",
       "      <td>...</td>\n",
       "      <td>...</td>\n",
       "      <td>...</td>\n",
       "    </tr>\n",
       "    <tr>\n",
       "      <th>115</th>\n",
       "      <td>3155.94</td>\n",
       "      <td>10000.0</td>\n",
       "      <td>10000.0</td>\n",
       "      <td>35.0</td>\n",
       "      <td>1.0</td>\n",
       "    </tr>\n",
       "    <tr>\n",
       "      <th>116</th>\n",
       "      <td>2795.04</td>\n",
       "      <td>1.0</td>\n",
       "      <td>10.0</td>\n",
       "      <td>45.0</td>\n",
       "      <td>0.0</td>\n",
       "    </tr>\n",
       "    <tr>\n",
       "      <th>117</th>\n",
       "      <td>3702.48</td>\n",
       "      <td>1.0</td>\n",
       "      <td>1.0</td>\n",
       "      <td>20.0</td>\n",
       "      <td>0.0</td>\n",
       "    </tr>\n",
       "    <tr>\n",
       "      <th>118</th>\n",
       "      <td>2790.57</td>\n",
       "      <td>1.0</td>\n",
       "      <td>1.0</td>\n",
       "      <td>40.0</td>\n",
       "      <td>0.0</td>\n",
       "    </tr>\n",
       "    <tr>\n",
       "      <th>119</th>\n",
       "      <td>1848.21</td>\n",
       "      <td>100.0</td>\n",
       "      <td>100.0</td>\n",
       "      <td>90.0</td>\n",
       "      <td>0.0</td>\n",
       "    </tr>\n",
       "  </tbody>\n",
       "</table>\n",
       "<p>120 rows × 5 columns</p>\n",
       "</div>"
      ],
      "text/plain": [
       "           0        1          2     3    4\n",
       "0    2988.55  10000.0    10000.0  75.0  1.0\n",
       "1    3413.80      1.0      100.0  90.0  0.0\n",
       "2    3891.52      1.0        1.0   5.0  0.0\n",
       "3    4514.99  10000.0  1000000.0  25.0  1.0\n",
       "4     752.29     10.0       10.0  90.0  0.0\n",
       "..       ...      ...        ...   ...  ...\n",
       "115  3155.94  10000.0    10000.0  35.0  1.0\n",
       "116  2795.04      1.0       10.0  45.0  0.0\n",
       "117  3702.48      1.0        1.0  20.0  0.0\n",
       "118  2790.57      1.0        1.0  40.0  0.0\n",
       "119  1848.21    100.0      100.0  90.0  0.0\n",
       "\n",
       "[120 rows x 5 columns]"
      ]
     },
     "execution_count": 52,
     "metadata": {},
     "output_type": "execute_result"
    }
   ],
   "source": [
    "test_data= pd.read_csv(\"mock_test_set.csv\", delimiter=',')\n",
    "test_data"
   ]
  },
  {
   "cell_type": "code",
   "execution_count": 53,
   "id": "8e69a77e",
   "metadata": {},
   "outputs": [
    {
     "data": {
      "text/plain": [
       "Index(['0', '1', '2', '3', '4'], dtype='object')"
      ]
     },
     "execution_count": 53,
     "metadata": {},
     "output_type": "execute_result"
    }
   ],
   "source": [
    "train_data.columns"
   ]
  },
  {
   "cell_type": "code",
   "execution_count": 54,
   "id": "7b9b7cec",
   "metadata": {},
   "outputs": [
    {
     "data": {
      "text/plain": [
       "(300,)"
      ]
     },
     "execution_count": 54,
     "metadata": {},
     "output_type": "execute_result"
    }
   ],
   "source": [
    "train_data[\"0\"].shape"
   ]
  },
  {
   "cell_type": "code",
   "execution_count": 55,
   "id": "5d337c25",
   "metadata": {},
   "outputs": [],
   "source": [
    "col_0=train_data[\"0\"]"
   ]
  },
  {
   "cell_type": "code",
   "execution_count": 56,
   "id": "50607977",
   "metadata": {},
   "outputs": [
    {
     "data": {
      "text/plain": [
       "4995.61"
      ]
     },
     "execution_count": 56,
     "metadata": {},
     "output_type": "execute_result"
    }
   ],
   "source": [
    "import numpy as np\n",
    "np.max(col_0)"
   ]
  },
  {
   "cell_type": "code",
   "execution_count": 57,
   "id": "7d12f71c",
   "metadata": {},
   "outputs": [
    {
     "data": {
      "text/plain": [
       "1000000.0"
      ]
     },
     "execution_count": 57,
     "metadata": {},
     "output_type": "execute_result"
    }
   ],
   "source": [
    "np.max(train_data[\"1\"])"
   ]
  },
  {
   "cell_type": "code",
   "execution_count": 58,
   "id": "940eb160",
   "metadata": {},
   "outputs": [
    {
     "data": {
      "text/plain": [
       "1000000.0"
      ]
     },
     "execution_count": 58,
     "metadata": {},
     "output_type": "execute_result"
    }
   ],
   "source": [
    "np.max(train_data[\"2\"])"
   ]
  },
  {
   "cell_type": "code",
   "execution_count": 59,
   "id": "4180f244",
   "metadata": {},
   "outputs": [
    {
     "data": {
      "text/plain": [
       "90.0"
      ]
     },
     "execution_count": 59,
     "metadata": {},
     "output_type": "execute_result"
    }
   ],
   "source": [
    "np.max(train_data[\"3\"])"
   ]
  },
  {
   "cell_type": "code",
   "execution_count": 60,
   "id": "0813918c",
   "metadata": {},
   "outputs": [],
   "source": [
    "norm_col_0 = col_0/(np.max(col_0))"
   ]
  },
  {
   "cell_type": "code",
   "execution_count": 61,
   "id": "0a83e4c0",
   "metadata": {},
   "outputs": [
    {
     "data": {
      "text/plain": [
       "(300,)"
      ]
     },
     "execution_count": 61,
     "metadata": {},
     "output_type": "execute_result"
    }
   ],
   "source": [
    "norm_col_0.shape"
   ]
  },
  {
   "cell_type": "code",
   "execution_count": 62,
   "id": "61b3e83a",
   "metadata": {},
   "outputs": [],
   "source": [
    "normalized_df=(train_data-train_data.min())/(train_data.max()-train_data.min())"
   ]
  },
  {
   "cell_type": "code",
   "execution_count": 63,
   "id": "8f9840dd",
   "metadata": {},
   "outputs": [
    {
     "data": {
      "text/plain": [
       "(300, 5)"
      ]
     },
     "execution_count": 63,
     "metadata": {},
     "output_type": "execute_result"
    }
   ],
   "source": [
    "dataset_array = normalized_df.to_numpy()\n",
    "dataset_array.shape"
   ]
  },
  {
   "cell_type": "code",
   "execution_count": 64,
   "id": "f2b2e97b",
   "metadata": {},
   "outputs": [
    {
     "data": {
      "text/plain": [
       "(120, 5)"
      ]
     },
     "execution_count": 64,
     "metadata": {},
     "output_type": "execute_result"
    }
   ],
   "source": [
    "normalized_test_df = (test_data-test_data.min())/(test_data.max()-test_data.min())\n",
    "test_dataset_array = normalized_test_df.to_numpy()\n",
    "test_dataset_array.shape"
   ]
  },
  {
   "cell_type": "markdown",
   "id": "f9b26ee5",
   "metadata": {},
   "source": [
    "The first Encoding technique will be an Angle Encoding followed by pi/4 rotation around Y then Z axis as proposed in "
   ]
  },
  {
   "cell_type": "code",
   "execution_count": 65,
   "id": "548b36e2",
   "metadata": {},
   "outputs": [
    {
     "data": {
      "image/png": "[encoded data removed]",
      "text/plain": [
       "<Figure size 267.197x264.88 with 1 Axes>"
      ]
     },
     "execution_count": 65,
     "metadata": {},
     "output_type": "execute_result"
    }
   ],
   "source": [
    "import numpy as np\n",
    "import matplotlib.pyplot as plt\n",
    "\n",
    "from qiskit import Aer, QuantumCircuit\n",
    "from qiskit.opflow import Z, I, StateFn\n",
    "from qiskit.utils import QuantumInstance, algorithm_globals\n",
    "from qiskit.circuit import Parameter\n",
    "from qiskit.circuit.library import RealAmplitudes, ZZFeatureMap, TwoLocal, PauliFeatureMap\n",
    "x0 = Parameter('x0')\n",
    "x1 = Parameter('x1')\n",
    "x2 = Parameter('x2')\n",
    "x3 = Parameter('x3')\n",
    "qc2 = QuantumCircuit(4)\n",
    "qc2.rx(x0, 0)\n",
    "qc2.rx(x1, 1)\n",
    "qc2.rx(x2, 2)\n",
    "qc2.rx(x3, 3)\n",
    "\n",
    "qc2.ry(np.pi/4, 0)\n",
    "qc2.ry(np.pi/4, 1)\n",
    "qc2.ry(np.pi/4, 2)\n",
    "qc2.ry(np.pi/4, 3)\n",
    "\n",
    "qc2.rz(np.pi/4, 0)\n",
    "qc2.rz(np.pi/4, 1)\n",
    "qc2.rz(np.pi/4, 2)\n",
    "qc2.rz(np.pi/4, 3)\n",
    "feature_map= [qc2.bind_parameters({x0: x0_val})\n",
    "            for x0_val in dataset_array[:, 0]]\n",
    "feature_map= [qc2.bind_parameters({x1: x1_val})\n",
    "            for x1_val in dataset_array[:, 1]]\n",
    "feature_map= [qc2.bind_parameters({x2: x2_val})\n",
    "            for x2_val in dataset_array[:, 2]]\n",
    "feature_map= [qc2.bind_parameters({x3: x3_val})\n",
    "            for x3_val in dataset_array[:, 3]]\n",
    "qc2.draw('mpl', style='iqx')"
   ]
  },
  {
   "cell_type": "markdown",
   "id": "6d416629",
   "metadata": {},
   "source": [
    "Using PauliFeatureMap class to encode the classical data:"
   ]
  },
  {
   "cell_type": "code",
   "execution_count": 66,
   "id": "416d901c",
   "metadata": {},
   "outputs": [],
   "source": [
    "\n",
    "qc3 = PauliFeatureMap(4, reps=1, paulis=['ZZ'])"
   ]
  },
  {
   "cell_type": "markdown",
   "id": "4e12b75b",
   "metadata": {},
   "source": [
    "In the early days of Quantum Neural Network or Parametrized Circuits, they were implemented using randomized circuits. This approach led to a lot of challenges, for example Barren Pleateau, which prohibited the model to converge into an acceptable approximation to the true value of the classification label.\n",
    "A predefined set of circuit templates are nowadays used in training, they generally formed of blocks consisting of alternating layers of rotation and entanglement as surveyed by Sim in here: https://arxiv.org/abs/1905.10876 <br>\n",
    "The circuit expressibility can be used to select the ansatz design that is expeccted to give the highest prediction accuracy.\n",
    "The QNN learning income is enhanced by reapeating the circuit blocks L times as suggested here: https://arxiv.org/abs/2006.14904"
   ]
  },
  {
   "cell_type": "markdown",
   "id": "44f896c7",
   "metadata": {},
   "source": [
    "The two-local circuit is a parameterized circuit consisting of alternating rotation layers and entanglement layers: https://qiskit.org/documentation/stubs/qiskit.circuit.library.TwoLocal.html <br>\n",
    "It can be used to implement the ansatz circuit that will do the training.\n",
    "The reps parameter will be used to control how many layers will be used in our experiment. <br>\n",
    "In our experiment, Circuit6 in https://arxiv.org/abs/1905.10876 which has the highest expressibility value for L=2 will be used here for training."
   ]
  },
  {
   "cell_type": "code",
   "execution_count": 67,
   "id": "c0146127",
   "metadata": {},
   "outputs": [],
   "source": [
    "from qiskit.circuit import Parameter, ParameterVector\n",
    "import numpy as np\n",
    "import matplotlib.pyplot as plt\n",
    "\n",
    "from qiskit import Aer, QuantumCircuit\n",
    "from qiskit.opflow import Z, I, StateFn\n",
    "from qiskit.utils import QuantumInstance, algorithm_globals\n",
    "from qiskit.circuit import Parameter\n",
    "from qiskit.circuit.library import RealAmplitudes, ZZFeatureMap, TwoLocal\n",
    "dim =4\n",
    "num_inputs=4\n",
    "entangler_map_layer1 = [(1, 0), (3, 2)]\n",
    "entangler_map_layer2 = [(2, 1)]\n",
    "entanglement = [entangler_map_layer1, entangler_map_layer2]\n",
    "ansatz = TwoLocal(dim, ['rx', 'rz'],'crz', entanglement, reps=4, skip_final_rotation_layer=True, insert_barriers=True) "
   ]
  },
  {
   "cell_type": "code",
   "execution_count": 68,
   "id": "5a571a14",
   "metadata": {},
   "outputs": [],
   "source": [
    "quantum_instance = QuantumInstance(Aer.get_backend('aer_simulator'), shots=1024)\n",
    "algorithm_globals.random_seed = 42"
   ]
  },
  {
   "cell_type": "markdown",
   "id": "7419c6a0",
   "metadata": {},
   "source": [
    "The QNN model is constructed using a TwoLayerQNN class to integrate the encoding module and the training module."
   ]
  },
  {
   "cell_type": "code",
   "execution_count": 69,
   "id": "cb0502de",
   "metadata": {},
   "outputs": [
    {
     "name": "stdout",
     "output_type": "stream",
     "text": [
      "     ┌──────────────────────────────┐»\n",
      "q_0: ┤0                             ├»\n",
      "     │                              │»\n",
      "q_1: ┤1                             ├»\n",
      "     │  circuit-154922(x0,x1,x2,x3) │»\n",
      "q_2: ┤2                             ├»\n",
      "     │                              │»\n",
      "q_3: ┤3                             ├»\n",
      "     └──────────────────────────────┘»\n",
      "«     ┌──────────────────────────────────────────────────────────────────────────────────────────────────────────────────────────────────────────────────────────────────────────────────────────────────────────────────────────────────────┐\n",
      "«q_0: ┤0                                                                                                                                                                                                                                     ├\n",
      "«     │                                                                                                                                                                                                                                      │\n",
      "«q_1: ┤1                                                                                                                                                                                                                                     ├\n",
      "«     │  TwoLocal(θ[0],θ[1],θ[2],θ[3],θ[4],θ[5],θ[6],θ[7],θ[8],θ[9],θ[10],θ[11],θ[12],θ[13],θ[14],θ[15],θ[16],θ[17],θ[18],θ[19],θ[20],θ[21],θ[22],θ[23],θ[24],θ[25],θ[26],θ[27],θ[28],θ[29],θ[30],θ[31],θ[32],θ[33],θ[34],θ[35],θ[36],θ[37]) │\n",
      "«q_2: ┤2                                                                                                                                                                                                                                     ├\n",
      "«     │                                                                                                                                                                                                                                      │\n",
      "«q_3: ┤3                                                                                                                                                                                                                                     ├\n",
      "«     └──────────────────────────────────────────────────────────────────────────────────────────────────────────────────────────────────────────────────────────────────────────────────────────────────────────────────────────────────────┘\n"
     ]
    }
   ],
   "source": [
    "from qiskit_machine_learning.neural_networks import TwoLayerQNN\n",
    "opflow_qnn = TwoLayerQNN(num_inputs, feature_map = qc2, ansatz= ansatz, quantum_instance=quantum_instance)\n",
    "#opflow_qnn = TwoLayerQNN(num_inputs, quantum_instance=quantum_instance)\n",
    "print(opflow_qnn.circuit)"
   ]
  },
  {
   "cell_type": "code",
   "execution_count": 70,
   "id": "ae956356",
   "metadata": {},
   "outputs": [
    {
     "data": {
      "text/plain": [
       "array([[0.03710938]])"
      ]
     },
     "execution_count": 70,
     "metadata": {},
     "output_type": "execute_result"
    }
   ],
   "source": [
    "weights3 = algorithm_globals.random.random(opflow_qnn.num_weights)\n",
    "# QNN maps inputs to [-1, +1]\n",
    "opflow_qnn.forward(dataset_array[0, 0:4], weights3)"
   ]
  },
  {
   "cell_type": "code",
   "execution_count": 71,
   "id": "3dc01ce8",
   "metadata": {},
   "outputs": [
    {
     "data": {
      "text/plain": [
       "(None,\n",
       " array([[[-3.12500000e-02,  2.73437500e-02, -1.26953125e-02,\n",
       "          -7.81250000e-03,  7.81250000e-03, -2.92968750e-02,\n",
       "          -1.46484375e-02, -1.85546875e-02, -3.61328125e-02,\n",
       "           3.36914063e-02,  1.75781250e-02, -1.85546875e-02,\n",
       "          -2.34375000e-02,  1.36718750e-02,  4.00390625e-02,\n",
       "           1.95312500e-02,  9.76562500e-03, -8.67361738e-19,\n",
       "          -1.02539062e-02, -2.83203125e-02, -2.92968750e-02,\n",
       "          -1.95312500e-03, -4.29687500e-02,  3.32031250e-02,\n",
       "           2.34375000e-02,  2.63671875e-02,  9.76562500e-04,\n",
       "           9.76562500e-04, -2.58789063e-02,  2.44140625e-02,\n",
       "          -3.61328125e-02,  1.46484375e-02,  3.12500000e-02,\n",
       "           2.34375000e-02, -1.26953125e-02, -1.95312500e-02,\n",
       "          -2.92968750e-03, -2.05078125e-02]]]))"
      ]
     },
     "execution_count": 71,
     "metadata": {},
     "output_type": "execute_result"
    }
   ],
   "source": [
    "opflow_qnn.backward(dataset_array[0, 0:4], weights3)"
   ]
  },
  {
   "cell_type": "code",
   "execution_count": 72,
   "id": "a0d7a14b",
   "metadata": {},
   "outputs": [],
   "source": [
    "# callback function that draws a live plot when the .fit() method is called\n",
    "def callback_graph(weights, obj_func_eval):\n",
    "    clear_output(wait=True)\n",
    "    objective_func_vals.append(obj_func_eval)\n",
    "    plt.title(\"Objective function value against iteration\")\n",
    "    plt.xlabel(\"Iteration\")\n",
    "    plt.ylabel(\"Objective function value\")\n",
    "    plt.plot(range(len(objective_func_vals)), objective_func_vals)\n",
    "    plt.show()\n",
    "    with open('loss_vals_qosf_cohort5.txt', 'w') as f:\n",
    "        f.write(str(objective_func_vals).strip('[]').replace('\\'', ''))\n",
    "        np.save('loss_vals_qosf_cohort5.npy', objective_func_vals)"
   ]
  },
  {
   "cell_type": "markdown",
   "id": "0c15fb18",
   "metadata": {},
   "source": [
    "The NeuralNetworkClassifier is used to run the training and claculate the prediction accuracy."
   ]
  },
  {
   "cell_type": "code",
   "execution_count": 73,
   "id": "7851c9d6",
   "metadata": {},
   "outputs": [],
   "source": [
    "from qiskit_machine_learning.algorithms.classifiers import NeuralNetworkClassifier\n",
    "from qiskit.algorithms.optimizers import COBYLA\n",
    "# cobnstruct neural network classifier\n",
    "opflow_classifier = NeuralNetworkClassifier(opflow_qnn, optimizer=COBYLA())"
   ]
  },
  {
   "cell_type": "code",
   "execution_count": 74,
   "id": "64823d6f",
   "metadata": {},
   "outputs": [
    {
     "name": "stdout",
     "output_type": "stream",
     "text": [
      "QNN classification test score: 0.7833333333333333\n"
     ]
    }
   ],
   "source": [
    "# create empty array for callback to store evaluations of the objective function\n",
    "objective_func_vals = []\n",
    "plt.rcParams[\"figure.figsize\"] = (12, 6)\n",
    "\n",
    "training_labels = 2 * dataset_array[:, 4] - 1\n",
    "test_labels = 2 * test_dataset_array[:, 4] - 1\n",
    "\n",
    "# fit classifier to data\n",
    "opflow_classifier.fit(dataset_array[:, 0:4] , training_labels)\n",
    "\n",
    "# return to default figsize\n",
    "plt.rcParams[\"figure.figsize\"] = (6, 4)\n",
    "\n",
    "# score classifier\n",
    "qnn_score = opflow_classifier.score(test_dataset_array[:, 0:4], test_labels)\n",
    "\n",
    "with open('accuracy_vals_adhoc_zzfeaturemap.txt', 'a') as f:\n",
    "    f.write(str(qnn_score)+' ') \n",
    "    np.save('accuracy_vals_adhoc_zzfeaturemap.npy', qnn_score)\n",
    "print(f'QNN classification test score: {qnn_score}')\n",
    "\n",
    "# predict labels\n",
    "predicted = opflow_classifier.predict(test_dataset_array[:, 0:4])"
   ]
  },
  {
   "cell_type": "markdown",
   "id": "e24853d1",
   "metadata": {},
   "source": [
    "| | Experiment #  | Used Encoder  | ansatz ID   | #LAYERS L   | Accuracy  |\n",
    "|---:|:-------------|:-----------|:------|:------|:------|\n",
    "| 1 | Experiment1 | Angle Enc.  | Circuit3  | 2   | 0.5917 |\n",
    "| 2 | Experiment2 | Angle Enc. | Circuit3 | 3  | 0.8  | \n",
    "| 3 | Experiment3 | Angle Enc. |  Circuit3 | 4  |   0.7833| \n",
    "| 4 | Experiment4 | Angle Enc. |  Circuit6 | 3  |   0.8583| "
   ]
  },
  {
   "cell_type": "markdown",
   "id": "e38cd94e",
   "metadata": {},
   "source": [
    "Conclusion: <br>\n",
    "1- A highly expressive circuit is expected to achieve a higher prediction accuracy. <br>\n",
    "2- Increasing the number of repeated blocks L leads to an increase in prediction accuracy then it is useless. <br>\n",
    "3- The combination of a highly expressive circuit and using circuit blocks repetitions lead to enhancing the prediction accuracy. <br>\n"
   ]
  },
  {
   "cell_type": "markdown",
   "id": "d55e9af7",
   "metadata": {},
   "source": [
    "Future Work: <br>\n",
    "1- Try more encoding type and ansatz designs to enhance the prediction accuracy with the guidelines explained above. <br>\n"
   ]
  },
  {
   "cell_type": "code",
   "execution_count": 77,
   "id": "5b0c8293",
   "metadata": {},
   "outputs": [
    {
     "data": {
      "text/plain": [
       "{'qiskit-terra': '0.18.3', 'qiskit-aer': '0.8.2', 'qiskit-ignis': '0.6.0', 'qiskit-ibmq-provider': '0.14.0', 'qiskit-aqua': '0.9.2', 'qiskit': '0.27.0', 'qiskit-nature': None, 'qiskit-finance': None, 'qiskit-optimization': '0.2.3', 'qiskit-machine-learning': '0.2.0'}"
      ]
     },
     "execution_count": 77,
     "metadata": {},
     "output_type": "execute_result"
    }
   ],
   "source": [
    "from qiskit import *\n",
    "qiskit.__qiskit_version__"
   ]
  },
  {
   "cell_type": "code",
   "execution_count": null,
   "id": "8b06d332",
   "metadata": {},
   "outputs": [],
   "source": []
  }
 ],
 "metadata": {
  "kernelspec": {
   "display_name": "Python 3",
   "language": "python",
   "name": "python3"
  },
  "language_info": {
   "codemirror_mode": {
    "name": "ipython",
    "version": 3
   },
   "file_extension": ".py",
   "mimetype": "text/x-python",
   "name": "python",
   "nbconvert_exporter": "python",
   "pygments_lexer": "ipython3",
   "version": "3.9.5"
  }
 },
 "nbformat": 4,
 "nbformat_minor": 5
}
